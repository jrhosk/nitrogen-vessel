{
 "cells": [
  {
   "cell_type": "code",
   "execution_count": null,
   "metadata": {},
   "outputs": [],
   "source": [
    "!python -m pip install numpy\n",
    "!python -m pip install matplotlib\n",
    "!python -m pip install pandas\n",
    "!python -m pip install requests\n",
    "!python -m pip install codecs\n",
    "!python -m pip install tabulate\n",
    "!python -m pip install csv\n",
    "!python -m pip install plotly"
   ]
  },
  {
   "cell_type": "code",
   "execution_count": null,
   "metadata": {},
   "outputs": [],
   "source": [
    "import numpy as np\n",
    "import matplotlib.pyplot as plt\n",
    "import math\n",
    "import pandas as pd\n",
    "import requests\n",
    "import codecs\n",
    "import csv\n",
    "\n",
    "from IPython.display import Image\n",
    "from contextlib import closing\n",
    "from tabulate import tabulate\n",
    "\n",
    "\n",
    "%matplotlib inline"
   ]
  },
  {
   "cell_type": "code",
   "execution_count": null,
   "metadata": {},
   "outputs": [],
   "source": [
    "def create_url_query(element_id, data_type, pressure, T_high, T_low, T_inc):\n",
    "    base = 'https://webbook.nist.gov/cgi/fluid.cgi?'\n",
    "    action = 'Action=Data&Wide=on&'\n",
    "    element = 'ID={}&'.format(element_id)\n",
    "    return_type = 'Type={}&'.format(data_type)\n",
    "    digits = 'digits=5&'\n",
    "    P = 'P={}&'.format(pressure)\n",
    "    THigh = 'THigh={}&'.format(T_high)\n",
    "    TLow = 'TLow={}&'.format(T_low)\n",
    "    TInc='TInc={}&'.format(T_inc)\n",
    "    units = 'RefState=DEF&TUnit=K&PUnit=psia&DUnit=kg%2Fm3&HUnit=kJ%2Fkg&WUnit=m%2Fs&VisUnit=Pa*s&STUnit=N%2Fm'\n",
    "    \n",
    "    url = '{base}{action}{element}{return_type}{digits}{P}{THigh}{TLow}{TInc}{units}'.format(base=base,\n",
    "                                                                                            action=action,\n",
    "                                                                                            element=element,\n",
    "                                                                                            return_type=return_type,\n",
    "                                                                                            digits=digits,\n",
    "                                                                                            P=P,\n",
    "                                                                                            THigh=THigh,\n",
    "                                                                                            TLow=TLow,\n",
    "                                                                                            TInc=TInc,\n",
    "                                                                                            units=units)\n",
    "    return url"
   ]
  },
  {
   "cell_type": "code",
   "execution_count": null,
   "metadata": {},
   "outputs": [],
   "source": [
    "nitrogen_id = 'C7727379'\n",
    "helium_id = 'C7440597'\n",
    "\n",
    "url = create_url_query(helium_id, 'IsoBar', 14.7, 305.0, 77.0, 1.0)"
   ]
  },
  {
   "cell_type": "code",
   "execution_count": null,
   "metadata": {},
   "outputs": [],
   "source": [
    "df = pd.read_csv(url, delimiter='\\t')\n",
    "df.head()"
   ]
  },
  {
   "cell_type": "markdown",
   "metadata": {},
   "source": [
    "## Grashof - Rayleigh Equations:\n",
    "\n",
    "Grashoff number: A dimensionless number which approximates the ratio of the buoyancy to viscous force acting on a fluid.\n",
    "\n",
    "Rayleigh number:  A dimensionless number associated with buoyancy-driven flow, also known as free or natural convection. It characterises the fluid's flow regime. The magnitude is a good indication as to whether the natural convection boundary layer is laminar or turbulent. "
   ]
  },
  {
   "cell_type": "code",
   "execution_count": null,
   "metadata": {
    "scrolled": true
   },
   "outputs": [],
   "source": [
    "rayleigh_number = lambda G_r, P_r: G_r*P_r   \n",
    "nusselt_number_turbulence = lambda Re_D, Pr, n: 0.023*math.pow(Re_D, 0.8)*math.pow(Pr, n) \n",
    "laminar_check = lambda i: i < 10e9\n",
    "characteristic_length_disk = lambda r1, r2: (math.pi*(math.pow(max(r1,r2), 2) - math.pow(min(r1,r2), 2)))/(2*math.pi*max(r1,r2))  \n",
    "characteristic_length_plate = lambda w, l: (w*l)/(2*(w + l)) \n",
    "pascal_to_psi = lambda p: (1/6894.76)*p\n",
    "psi_to_pascal = lambda p: 6894.76*p"
   ]
  },
  {
   "cell_type": "markdown",
   "metadata": {},
   "source": [
    "## Nusselt Number Equations: \n",
    "Nusselt number: Provides information about the ration of the convective heat transfer to conductive heat transfer in a fluid."
   ]
  },
  {
   "cell_type": "code",
   "execution_count": null,
   "metadata": {},
   "outputs": [],
   "source": [
    "def grashof_number(g, beta, T_1, T_2, L, nu):\n",
    "    return g*beta*(max(T_1, T_2) - min(T_1, T_2))*math.pow(L, 3)/(math.pow(nu, 2))\n",
    "\n",
    "def nusselt_number_long_cylinder(Ra_D, Pr):\n",
    "    return math.pow(0.6 + (0.387*math.pow(Ra_D, 1/6))/math.pow( 1 + math.pow(0.559/P_r, 9/16), 8/27), 2)\n",
    "\n",
    "def nusselt_number_vertical_plates(Ra_L, P_r):\n",
    "    if Ra_L < 10e9:\n",
    "        return 0.68 + (0.67*math.pow(Ra_L, 1/4))/math.pow( 1 + math.pow(0.492/P_r, 9/16), 4/9)\n",
    "    else:\n",
    "        return math.pow(0.825 + (0.387*math.pow(Ra_L, 1/6))/math.pow( 1 + math.pow(0.492/P_r, 9/16), 8/27), 2)\n",
    "\n",
    "def check_D_L_condition(D, L, Gr_L):\n",
    "    if D/L > 35/math.pow(Gr_L, 0.25):\n",
    "        return True\n",
    "    else:\n",
    "        return False\n",
    "\n",
    "def check_convection_type(Ge, Re):\n",
    "    return Ge/math.pow(Re, 2)\n",
    "    \n",
    "def reynolds_number(W, mu, D):\n",
    "    return 4*W/(math.pi*mu*D)\n",
    "    \n",
    "def nusselt_number_lower_cold(Ra):\n",
    "    if Ra > 8e4 and Ra < 10e7:\n",
    "        return 0.54*math.pow(Ra, 1/4)\n",
    "    elif Ra > 10e7 and Ra < 10e11:\n",
    "        return 0.15*math.pow(Ra, 1/3)\n",
    "    else:\n",
    "        return 0\n",
    "    \n",
    "def nusselt_number_upper_cold(Ra_L):\n",
    "    if Ra_L > 8e4 and Ra_L < 10e10:\n",
    "        return 0.27*math.pow(Ra_L, 1/4)\n",
    "    else:\n",
    "        return 0\n",
    "\n",
    "def compute_heat_transfer_coefficient(Nu, k, L):\n",
    "    return Nu*k/L\n",
    "\n",
    "def computer_radiative_heat_transfer(T, T_inf, eps,surface_area):\n",
    "    stephan_boltzmann = 5.67373e-8      # W/m^2 K^4\n",
    "    q_radiative = eps*surface_area*stephan_boltzmann*(math.pow(T_inf, 4) - math.pow(T, 4))\n",
    "    \n",
    "    return q_radiative\n",
    "    \n",
    "\n",
    "def volumetric_expansion_coefficient(rho, rho_inf, T, T_inf):\n",
    "    return (1/rho)*(rho_inf - rho)/(T - T_inf)\n",
    "\n",
    "def get_horizontal_plate_coefficient_upper(Ra):\n",
    "    if Ra > 10e4 and Ra < 10e7:\n",
    "        return 0.54\n",
    "    elif Ra > 10e7 and Ra < 10e11:\n",
    "        return 0.15\n",
    "    else:\n",
    "        return 0\n",
    "    \n",
    "def get_horizontal_plate_coefficient_lower(Ra):\n",
    "    if Ra > 8e4 and Ra < 10e10:\n",
    "        return 0.27\n",
    "    else:\n",
    "        return 0   \n",
    "    "
   ]
  },
  {
   "cell_type": "markdown",
   "metadata": {},
   "source": [
    "## Nitrogen vessel geometry constants (m)"
   ]
  },
  {
   "cell_type": "markdown",
   "metadata": {},
   "source": [
    "![title](cross_section.png)"
   ]
  },
  {
   "cell_type": "code",
   "execution_count": null,
   "metadata": {},
   "outputs": [],
   "source": [
    "inner_top_plate_radius = 0.44          # Diagram C\n",
    "inner_bottom_plate_radius = 0.37       # Diagram B\n",
    "top_plate_thickness = 0.023            # Diagram C - Thickness\n",
    "outer_wall_thickness =  0.0051         # Diagram E - Thickness\n",
    "inner_wall_thickness =  0.0051         # Diagram A - Thickness\n",
    "inner_length = 0.48                    # Diagram A - Length\n",
    "outer_length = 0.61                    # Diagram E - Length\n",
    "inner_channel_length = 0.15            # Diagram D - Length\n",
    "inner_channel_radius = 0.12            # Diagram D - Radius\n",
    "inner_channel_thickness = 0.003        # Diagram D - Thickness\n",
    "nitrogen_port_inner_diameter = 0.01    # Diagram F - 0.375\" ID\n",
    "nitrogen_port_outer_diameter = 0.013   # Diagram F - 0.520\" OD\n",
    "nitrogen_port_length = 0.197           # Diagram F - Length\n",
    "nitrogen_lower_plate_thickness = 0.005"
   ]
  },
  {
   "cell_type": "markdown",
   "metadata": {},
   "source": [
    "## Thermal properties of liquids - He @ 300K"
   ]
  },
  {
   "cell_type": "code",
   "execution_count": null,
   "metadata": {},
   "outputs": [],
   "source": [
    "nu = 122e-6                          # m^2/s\n",
    "k = 152e-3                           # W/m*K \n",
    "alpha = 180e-6                       # m^2/s\n",
    "mu = 199e-7                          # N*s/m^2\n",
    "Pr = 0.680                           # Prandl number\n",
    "T = 78                               # Approximate temperature inner surfaces before vacuum loss(K)\n",
    "T_inf = 300                          # Approximate temperature atmosphere(K)\n",
    "g = 9.8\n",
    "sigma = 5.6703e-8                    # Stephan-Boltzmann ( W/(m^2 K^4) ) \n",
    "epsilon = 1                          # Need the value(s) for the pipe(s)\n",
    "stephan_boltzmann = 5.67373e-8       # W/m^2 K^4\n",
    "nitrogen_mass = 28.014               # diatomic mass nitrogen\n",
    "\n",
    "rho = df[df['Temperature (K)'] == 78]['Density (kg/m3)'].iloc[0]\n",
    "rho_inf = df[df['Temperature (K)'] == 300]['Density (kg/m3)'].iloc[0]\n",
    "beta = volumetric_expansion_coefficient(rho, rho_inf, T, T_inf) # K^-1"
   ]
  },
  {
   "cell_type": "markdown",
   "metadata": {},
   "source": [
    "## Classification of flow regime\n",
    "The first step if to calculate the rayleigh number which will classify the convective flow regime and dicate which correlation equations we use in the heat transfer coefficient calculations."
   ]
  },
  {
   "cell_type": "code",
   "execution_count": null,
   "metadata": {},
   "outputs": [],
   "source": [
    "# Vertical plates\n",
    "L_o = characteristic_length_plate(2*math.pi*inner_top_plate_radius, outer_length)\n",
    "L_i = characteristic_length_plate(2*math.pi*inner_bottom_plate_radius, inner_length)\n",
    "L_c = characteristic_length_plate(2*math.pi*inner_channel_radius, inner_channel_length)\n",
    "\n",
    "Gr_outer_length = grashof_number(g, beta, T, T_inf, L_o, nu)\n",
    "Ra_outer_length = rayleigh_number(Gr_outer_length, Pr)\n",
    "\n",
    "Gr_inner_length = grashof_number(g, beta, T, T_inf, L_i, nu)\n",
    "Ra_inner_length = rayleigh_number(Gr_inner_length, Pr)\n",
    "\n",
    "Gr_inner_channel_length = grashof_number(g, beta, T, T_inf, L_c, nu)\n",
    "Ra_inner_channel_length = rayleigh_number(Gr_inner_channel_length, Pr)\n",
    "\n",
    "# Horizontal plates\n",
    "\n",
    "L_t = characteristic_length_disk(inner_top_plate_radius, inner_channel_radius)\n",
    "Gr_inner_top_plate = grashof_number(g, beta, T, T_inf, L_t, nu)\n",
    "Ra_inner_top_plate = rayleigh_number(Gr_inner_top_plate, Pr)\n",
    "\n",
    "L_b = characteristic_length_disk(inner_bottom_plate_radius, inner_channel_radius)\n",
    "Gr_inner_bottom_plate = grashof_number(g, beta, T, T_inf, L_b, nu)\n",
    "Ra_inner_bottom_plate = rayleigh_number(Gr_inner_bottom_plate, Pr)\n",
    "\n",
    "L_l = characteristic_length_disk(inner_top_plate_radius, inner_bottom_plate_radius)\n",
    "Gr_lower_bottom_plate = grashof_number(g, beta, T, T_inf, L_l, nu)\n",
    "Ra_lower_bottom_plate = rayleigh_number(Gr_lower_bottom_plate, Pr)\n",
    "\n",
    "table = [[\"Outer vessel surface\", laminar_check(Gr_outer_length), \n",
    "            Gr_outer_length/math.pow(Ra_outer_length,2), L_o, Gr_outer_length],\n",
    "        [\"Inner vessel surface\", laminar_check(Gr_inner_length),\n",
    "         Gr_inner_length/math.pow(Ra_inner_length,2), L_i, Gr_inner_length],\n",
    "        [\"Inner channel surface\", laminar_check(Gr_inner_channel_length), \n",
    "         Gr_inner_channel_length/math.pow(Ra_inner_channel_length,2), L_c, Gr_inner_channel_length],\n",
    "        [\"Inner top plate surface\", laminar_check(Gr_inner_top_plate),\n",
    "         Gr_inner_top_plate/math.pow(Ra_inner_top_plate,2), L_t, Gr_inner_top_plate],\n",
    "        [\"Inner bottom plate surface\", laminar_check(Gr_inner_bottom_plate),\n",
    "         Gr_inner_bottom_plate/math.pow(Ra_inner_bottom_plate,2), L_b, Gr_inner_bottom_plate],\n",
    "        [\"Lower bottom plate surface\", laminar_check(Gr_lower_bottom_plate),\n",
    "         Gr_lower_bottom_plate/math.pow(Ra_lower_bottom_plate,2), L_l, Gr_lower_bottom_plate]]\n",
    "\n",
    "headers = [\"Plate Name\", \"Laminar(True|False)\", \"Free/Forced Ratio\", \"Char. Length\", \"Grashof number\"]\n",
    "\n",
    "print(tabulate(table, headers, tablefmt=\"psql\"))"
   ]
  },
  {
   "cell_type": "markdown",
   "metadata": {},
   "source": [
    "## Calculation of Nusselt Number"
   ]
  },
  {
   "cell_type": "code",
   "execution_count": null,
   "metadata": {
    "scrolled": true
   },
   "outputs": [],
   "source": [
    "# Vertical plates\n",
    "\n",
    "Nu_outer_length = nusselt_number_vertical_plates(Ra_outer_length, Pr)\n",
    "Nu_inner_length = nusselt_number_vertical_plates(Ra_inner_length, Pr)\n",
    "Nu_channel_length = nusselt_number_vertical_plates(Ra_inner_channel_length, Pr)\n",
    "\n",
    "# Horizontal plates\n",
    "\n",
    "Nu_inner_top = nusselt_number_upper_cold(Ra_inner_top_plate)\n",
    "Nu_inner_bottom = nusselt_number_lower_cold(Ra_inner_bottom_plate)\n",
    "Nu_lower_bottom = nusselt_number_lower_cold(Ra_lower_bottom_plate)\n",
    "\n",
    "table = [[\"Outer vessel surface\", \"NA\", Nu_outer_length],\n",
    "        [\"Inner vessel surface\", \"NA\", Nu_inner_length],\n",
    "        [\"Inner channel surface\", \"NA\", Nu_channel_length],\n",
    "        [\"Inner top plate surface\", get_horizontal_plate_coefficient_upper(Ra_inner_top_plate), Nu_inner_top],\n",
    "        [\"Inner bottom plate surface\", get_horizontal_plate_coefficient_lower(Ra_inner_bottom_plate), Nu_inner_bottom],\n",
    "        [\"Lower bottom plate surface\", get_horizontal_plate_coefficient_lower(Ra_lower_bottom_plate), Nu_lower_bottom]]\n",
    "\n",
    "headers = [\"Plate Name\", \"Horizontal plate coefficient\", \"Nusselt number\"]\n",
    "print(tabulate(table, headers, tablefmt=\"psql\"))"
   ]
  },
  {
   "cell_type": "markdown",
   "metadata": {},
   "source": [
    "## Calculate heat transfer coefficient"
   ]
  },
  {
   "cell_type": "code",
   "execution_count": null,
   "metadata": {},
   "outputs": [],
   "source": [
    "h_outer = compute_heat_transfer_coefficient(Nu_outer_length, k, outer_length)\n",
    "h_inner = compute_heat_transfer_coefficient(Nu_inner_length, k, inner_length)\n",
    "h_channel = compute_heat_transfer_coefficient(Nu_channel_length, k, inner_channel_length)\n",
    "h_inner_top = compute_heat_transfer_coefficient(Nu_inner_top, k, L_t)\n",
    "h_inner_bottom = compute_heat_transfer_coefficient(Nu_inner_bottom, k, L_b)\n",
    "h_lower_bottom = compute_heat_transfer_coefficient(Nu_lower_bottom, k, L_l)\n",
    "\n",
    "table = [[\"Outer vessel surface\", L_o, k,  h_outer],\n",
    "        [\"Inner vessel surface\", L_i, k, h_inner],\n",
    "        [\"Inner channel surface\", L_c, k, h_channel],\n",
    "        [\"Top plate surface\", L_t, k, h_inner_top],\n",
    "        [\"Bottom plate surface\", L_b, k, h_inner_bottom],\n",
    "        [\"Lower Bottom plate surface\", L_l, k, h_lower_bottom]]\n",
    "\n",
    "headers = [\"Plate Name\", \"Length (m)\", \"Thermal Conductivity(W/m*k)\", \"Heat Transfer Coefficient (W/m^2*K)\"]\n",
    "print(tabulate(table, headers, tablefmt=\"psql\"))"
   ]
  },
  {
   "cell_type": "markdown",
   "metadata": {},
   "source": [
    "## Nitrogen Vessel Flow Calculation"
   ]
  },
  {
   "cell_type": "code",
   "execution_count": null,
   "metadata": {},
   "outputs": [],
   "source": [
    "pressure_mawp = 299921.9 # pascals | MAWP per API-510 inspection 43.5 psi\n",
    "pressure_saturation_abs = 1.1*(pressure_mawp + psi_to_pascal(14.7)) # Gauge + overpressure - 64.02 psi\n",
    "print('Absolute maximum allowable pressure: {0} pascals'.format(round(pressure_saturation_abs, 3)))\n",
    "print('Absolute maximum allowable pressure: {0} psi'.format(round(pascal_to_psi(pressure_saturation_abs),3)))"
   ]
  },
  {
   "cell_type": "markdown",
   "metadata": {},
   "source": [
    "## Relieving Pressure"
   ]
  },
  {
   "cell_type": "code",
   "execution_count": null,
   "metadata": {},
   "outputs": [],
   "source": [
    "pressure_set = 241316.5 # PRV set pressure - 35 psig\n",
    "pressure_relieving = 1.1*(pressure_set) + psi_to_pascal(14.7) # PRV + gauge + overpressure\n",
    "\n",
    "table = [[\"Vessel MAWP (psig)\", round(pascal_to_psi(pressure_mawp), 2)],\n",
    "        [\"Vessel Maximum Accumulated Pressure (psig)\", round(pascal_to_psi(1.1*pressure_mawp), 2)],\n",
    "        [\"Relief Device Set Pressure (psig)\", round(pascal_to_psi(pressure_set), 2)],\n",
    "        [\"Allowable Over-pressure (psig)\", round(pascal_to_psi((1.1*pressure_mawp) - pressure_set), 2)],\n",
    "        [\"Relieving Pressure, P1 (psia)\", round(pascal_to_psi(pressure_relieving), 2)]]\n",
    "headers = [\"Characteristic\", \"Value (psig)\"]\n",
    "print(tabulate(table, headers, tablefmt=\"psql\"))\n",
    "\n",
    "url = create_url_query(nitrogen_id, 'IsoBar', round(pascal_to_psi(pressure_relieving),2), 85.0, 100, 0.075)\n",
    "df_nitrogen = pd.read_csv(url, delimiter = '\\t')\n",
    "\n",
    "df_derivative = df_nitrogen[['Enthalpy (kJ/kg)','Volume (m3/kg)']].diff().apply(lambda x: x['Enthalpy (kJ/kg)']/x['Volume (m3/kg)'], axis=1)\n",
    "df_heat_input = df_derivative*df_nitrogen['Volume (m3/kg)']\n",
    "df_heat_input = pd.DataFrame(df_heat_input, columns=['Spec. Heat Input (kJ/kg)'])\n",
    "df_nitrogen = pd.concat([df_nitrogen, df_heat_input], axis = 1).dropna()\n",
    "df_nitrogen.head()"
   ]
  },
  {
   "cell_type": "code",
   "execution_count": null,
   "metadata": {},
   "outputs": [],
   "source": [
    "url = create_url_query(nitrogen_id, 'SatP', round(pascal_to_psi(pressure_relieving),2), 85.0, 100, 0.05)\n",
    "df_sat = pd.read_csv(url, delimiter='\\t')\n",
    "\n",
    "df_sat[df_sat['Pressure (psia)'] > 54][['Temperature (K)', 'Pressure (psia)']].head(10)"
   ]
  },
  {
   "cell_type": "code",
   "execution_count": null,
   "metadata": {},
   "outputs": [],
   "source": [
    "temperature_saturation_nitrogen = df_sat[df_sat['Pressure (psia)'] > 54][['Temperature (K)', 'Pressure (psia)']].iloc[5][0]\n",
    "print('Approximate saturation temperature: {} K'.format(round(temperature_saturation_nitrogen, 3)))"
   ]
  },
  {
   "cell_type": "code",
   "execution_count": null,
   "metadata": {},
   "outputs": [],
   "source": [
    "specific_volume = df_nitrogen['Volume (m3/kg)'].to_numpy()\n",
    "spec_heat_input = df_nitrogen['Spec. Heat Input (kJ/kg)'].to_numpy()\n",
    "temperature_array = df_nitrogen['Temperature (K)'].to_numpy()\n",
    "C_v = df_nitrogen['Cv (J/g*K)'].to_numpy()\n",
    "C_p = df_nitrogen['Cp (J/g*K)'].to_numpy()\n",
    "c_ratio = C_v[0]/C_p[0]\n",
    "\n",
    "square_root_volume = np.array([math.sqrt(specific_volume[i]) for i in range(len(specific_volume))])\n",
    "Y = square_root_volume/(1000*spec_heat_input)\n",
    "\n",
    "max_temperature_index = Y.argmax()\n",
    "print('Temperature for flow capacity: {0}'.format(round(temperature_array[max_temperature_index], 3)))\n",
    "critical_temperature = temperature_array[max_temperature_index]\n",
    "\n",
    "plt.scatter(temperature_array, Y)\n",
    "plt.ylim(-0.000001, 0.000005)\n",
    "plt.xlim(89.2, 100)\n",
    "plt.grid(axis = 'both')\n",
    "plt.xlabel('Temperature (K)')\n",
    "plt.ylabel('F(h, v, T)')"
   ]
  },
  {
   "cell_type": "markdown",
   "metadata": {},
   "source": [
    "## Total Heat Transfer Calculation"
   ]
  },
  {
   "cell_type": "code",
   "execution_count": null,
   "metadata": {},
   "outputs": [],
   "source": [
    "def heat_transfer_cylinder(dz, T_inf, T, r_o, r_i, sigma, k, h):\n",
    "    R_conduction = math.log(r_o/r_i)/(2*math.pi*k*dz)\n",
    "    R_convection = 1/(h*sigma)\n",
    "    R_radiation = (T_inf - T)/(epsilon*sigma*stephan_boltzmann*(math.pow(T_inf, 4) - math.pow(T, 4)))\n",
    "    R_effective = 1/( 1/R_convection + 1/R_radiation)\n",
    "    q = (T_inf - T)/(R_conduction + R_effective)\n",
    "    \n",
    "    return q\n",
    "\n",
    "def heat_transfer_flat_plate(dt, T_inf, T, sigma, k, h):\n",
    "    R_conduction = dt/(k*sigma)\n",
    "    R_convection = 1/(h*sigma)\n",
    "    R_radiation = (T_inf - T)/(epsilon*sigma*stephan_boltzmann*(math.pow(T_inf, 4) - math.pow(T, 4)))\n",
    "    R_effective = 1/( 1/R_convection + 1/R_radiation)\n",
    "    q = (T_inf - T)/(R_conduction + R_effective)\n",
    "    \n",
    "    return q"
   ]
  },
  {
   "cell_type": "code",
   "execution_count": null,
   "metadata": {},
   "outputs": [],
   "source": [
    "top_plate_surface_area = 0.548        # Top plate surface area (m^2)\n",
    "bottom_plate_surface_area = 0.370     # Botom plate surface area (m^2)\n",
    "lower_plate_surface_area = 0.178\n",
    "inner_channel_surface_area = 0.084    # Top inner cylinder surface area (m^2)\n",
    "outer_vessel_surface_area = 1.663     # Outer vessel surface area (m^2)\n",
    "inner_vessel_surface_area = 1.023     # Inner vessel surface area (m^2)\n",
    "\n",
    "top_plate_thickness = 0.0203          # Top plate thickness (m)\n",
    "bottom_plate_thickness = 0.0203       # Bottom plate thickness (m)\n",
    "lower_plate_thickness = 0.005\n",
    "\n",
    "outer_radius_channel = 0.120          # Inner channel outer radius\n",
    "inner_radius_channel = 0.118          # Outer channel outer radius\n",
    "outer_vessel_radius = 0.434           # Outer vessel radius\n",
    "inner_vessel_radius = 0.120           # Inner vessel radius\n",
    "\n",
    "inner_channel_height = 0.152          # Top inner cylinder height (m)\n",
    "outer_vessel_height = 0.610           # Vessell Outer Surface Height (m)\n",
    "inner_vessel_height = 0.446           # Vessell Outer Surface Height (m)\n",
    "\n",
    "thermal_conductance = 116.23          # Wall thermal conductance (W/m*K) \n",
    "thickness = 0.0049                    # Average thickness of nitrogen vessel radial walls (m)\n",
    "\n",
    "total_surface_area = 3.866            # Total vessel surface area (m^2)"
   ]
  },
  {
   "cell_type": "code",
   "execution_count": null,
   "metadata": {},
   "outputs": [],
   "source": [
    "heat_transfer_top_plate = heat_transfer_flat_plate(top_plate_thickness, T_inf, temperature_saturation_nitrogen, \n",
    "                                                   top_plate_surface_area, thermal_conductance, h_inner_top)\n",
    "\n",
    "heat_transfer_bottom_plate = heat_transfer_flat_plate(bottom_plate_thickness, T_inf, temperature_saturation_nitrogen, \n",
    "                                                      bottom_plate_surface_area, thermal_conductance, h_inner_bottom)\n",
    "\n",
    "heat_transfer_lower_plate = heat_transfer_flat_plate(lower_plate_thickness, T_inf, temperature_saturation_nitrogen, \n",
    "                                                      lower_plate_surface_area, thermal_conductance, h_lower_bottom)\n",
    "\n",
    "heat_transfer_inner_channel = heat_transfer_cylinder(inner_channel_height, T_inf, temperature_saturation_nitrogen, \n",
    "                                                     outer_radius_channel, inner_radius_channel, inner_channel_surface_area, \n",
    "                                                     thermal_conductance, h_channel)\n",
    "\n",
    "heat_transfer_outer_vessel = heat_transfer_cylinder(outer_vessel_height, T_inf, temperature_saturation_nitrogen, \n",
    "                                                    outer_vessel_radius, outer_vessel_radius - thickness, \n",
    "                                                    outer_vessel_surface_area, thermal_conductance, h_outer)\n",
    "\n",
    "heat_transfer_inner_vessel = heat_transfer_cylinder(inner_vessel_height, T_inf, temperature_saturation_nitrogen, \n",
    "                                                    inner_vessel_radius, inner_vessel_radius - thickness, \n",
    "                                                    inner_vessel_surface_area, thermal_conductance, h_inner)\n",
    "\n",
    "total_heat_transfer = heat_transfer_top_plate \n",
    "total_heat_transfer+= heat_transfer_bottom_plate \n",
    "total_heat_transfer+= heat_transfer_inner_channel \n",
    "total_heat_transfer+= heat_transfer_outer_vessel \n",
    "total_heat_transfer+= heat_transfer_inner_vessel\n",
    "\n",
    "table = [[\"Circular Top Plate\", heat_transfer_top_plate, \"NA\"],\n",
    "         [\"Circular Bottom Plate\", heat_transfer_bottom_plate, \"NA\"],\n",
    "         [\"Lower Bottom Plate\", heat_transfer_lower_plate, \"NA\"],\n",
    "         [\"Inner Channel\", \"NA\", heat_transfer_inner_channel],\n",
    "         [\"Outer Vessel Surface\", \"NA\", heat_transfer_outer_vessel],\n",
    "         [\"Inner Vessel Surface\", \"NA\", heat_transfer_inner_vessel]]\n",
    "\n",
    "headers = [\"Plate Name\", \"Heat Transfer Plate (W)\", \"Heat Transfer Cylinder (W)\"]\n",
    "print(tabulate(table, headers, tablefmt=\"psql\"))\n",
    "\n",
    "table = [[\"Total Heat Transfer\", total_surface_area, total_heat_transfer]]\n",
    "headers = [\"\", \"Total Vessel Surface Area (m^2)\", \"Heat Transfer Cylinder (W)\"]\n",
    "print(tabulate(table, headers, tablefmt=\"psql\"))"
   ]
  },
  {
   "cell_type": "markdown",
   "metadata": {},
   "source": [
    "## Nitrogen vessel geometry constants (m)"
   ]
  },
  {
   "cell_type": "code",
   "execution_count": null,
   "metadata": {},
   "outputs": [],
   "source": [
    "inner_top_plate_radius = 0.44\n",
    "inner_bottom_plate_radius = 0.37\n",
    "top_plate_thickness = 0.023\n",
    "outer_wall_thickness =  0.0051\n",
    "inner_wall_thickness =  0.0051\n",
    "inner_length = 0.48\n",
    "outer_length = 0.61\n",
    "inner_channel_length = 0.15\n",
    "inner_channel_radius = 0.12\n",
    "inner_channel_thickness = 0.003\n",
    "nitrogen_port_inner_diameter = 0.01  # 0.375\" ID\n",
    "nitrogen_port_outer_diameter = 0.013  # 0.52\" OD\n",
    "nitrogen_port_length = 0.197"
   ]
  },
  {
   "cell_type": "markdown",
   "metadata": {},
   "source": [
    "## Flow Characteristics"
   ]
  },
  {
   "cell_type": "code",
   "execution_count": null,
   "metadata": {},
   "outputs": [],
   "source": [
    "def calculate_effective_discharge_area(m_flow, gas_ratio, mass, in_pressure, in_temperature, compressability, C):\n",
    "    k_b = 1.0          \n",
    "    k_c = 1.0        # No rupture disk\n",
    "    k_d = 0.975      # PRV with/without rupture disk\n",
    "    \n",
    "    A = ((m_flow)/(C*k_b*k_c*k_d*in_pressure))*math.sqrt(in_temperature*compressability/mass)\n",
    "    \n",
    "    return A\n",
    "    "
   ]
  },
  {
   "cell_type": "code",
   "execution_count": null,
   "metadata": {},
   "outputs": [],
   "source": [
    "P_critical = pressure_relieving*math.pow(2/(c_ratio + 1), c_ratio/(c_ratio - 1))\n",
    "print('Ratio of C_p/C_v: {0}'.format(round(c_ratio, 3)))\n",
    "print('Critical flow pressure: {0}'.format(round(pascal_to_psi(P_critical), 3)))  # Critical flow it is"
   ]
  },
  {
   "cell_type": "markdown",
   "metadata": {},
   "source": [
    "## Mass Flow"
   ]
  },
  {
   "cell_type": "code",
   "execution_count": null,
   "metadata": {},
   "outputs": [],
   "source": [
    "enthalpy = df_nitrogen['Enthalpy (kJ/kg)'].to_numpy()\n",
    "temperature_array = df_nitrogen['Temperature (K)'].to_numpy()\n",
    "\n",
    "plt.scatter(temperature_array, enthalpy)\n",
    "plt.grid(axis = 'both')\n",
    "plt.xlabel('Temperature (K)')\n",
    "plt.ylabel('Enthalpy (kJ/kg)')\n",
    "plt.show()\n",
    "\n",
    "df_nitrogen[df_nitrogen['Temperature (K)'] > 90][['Temperature (K)', 'Enthalpy (kJ/kg)', 'Phase']].head(20)"
   ]
  },
  {
   "cell_type": "code",
   "execution_count": null,
   "metadata": {},
   "outputs": [],
   "source": [
    "latent_heat = (85.062 - (-95.077))*1000   # J/kg  The change in enthalpy between the liquid and vapor states\n",
    "print('Latent heat of vaporization: {} J/kg'.format(round(latent_heat, 3)))\n",
    "\n",
    "W = (total_heat_transfer*3600)/latent_heat\n",
    "\n",
    "print('Mass flow: {} kg/hr'.format(round(W, 3)))"
   ]
  },
  {
   "cell_type": "code",
   "execution_count": null,
   "metadata": {},
   "outputs": [],
   "source": [
    "R = 8.314    # Gas Constant  kg⋅m2·K−1⋅mol−1s−2\n",
    "df_nitrogen[df_nitrogen['Temperature (K)'] > critical_temperature][['Temperature (K)', 'Density (kg/m3)']].head()"
   ]
  },
  {
   "cell_type": "code",
   "execution_count": null,
   "metadata": {},
   "outputs": [],
   "source": [
    "nitrogen_density = df_nitrogen[df_nitrogen['Temperature (K)'] > critical_temperature]['Density (kg/m3)'].iloc[0]\n",
    "Z = (pressure_relieving*nitrogen_mass)/(nitrogen_density*R*spec_heat_input[max_temperature_index]*1000)\n",
    "print('Nitrogen density at inlet: {} kg/m^3'.format(nitrogen_density))\n",
    "print('Compressability at inlet: {}'.format(Z))"
   ]
  },
  {
   "cell_type": "code",
   "execution_count": null,
   "metadata": {},
   "outputs": [],
   "source": [
    "C = 0.0283                  # Look-up table 8 in API-520 manual\n",
    "mass_flow = (3600*total_heat_transfer)/(latent_heat)\n",
    "print('Mass flow: {} kg/hr'.format(round(mass_flow, 3)))\n",
    "p1 = pressure_relieving/1000\n",
    "\n",
    "A = round(calculate_effective_discharge_area(mass_flow, \n",
    "                                         c_ratio, \n",
    "                                         nitrogen_mass, \n",
    "                                         p1, \n",
    "                                         temperature_array[max_temperature_index], \n",
    "                                         Z, \n",
    "                                         C), 6)\n",
    "\n",
    "D = 2*math.sqrt(A/math.pi)\n",
    "print('Nozzle Area: {} mm^2'.format(round(A, 3)))\n",
    "print('Nozzle diameter: {0} mm'.format(round(D, 3)))"
   ]
  },
  {
   "cell_type": "markdown",
   "metadata": {},
   "source": [
    "## Critical flow & Backpressure\n",
    "\n",
    "Per 5.3.1.1 - 5.6.2.5 of API-520 the backpressure, here $P_{atm}$ + 10\\% x $P_{set}$ = 20.7 psi, must be $\\leq$ $P_{cf}$, ie.\n",
    "\n",
    "$P_{cf} \\leq (P_{atm} + 0.1P_{set})$                                    "
   ]
  },
  {
   "cell_type": "code",
   "execution_count": null,
   "metadata": {},
   "outputs": [],
   "source": [
    "critical_flow_coefficient = math.pow(2/(c_ratio + 1), c_ratio/(c_ratio - 1))\n",
    "print('Critial flow condition coefficient: {}'.format(round(critical_flow_coefficient, 2)))"
   ]
  },
  {
   "cell_type": "code",
   "execution_count": null,
   "metadata": {},
   "outputs": [],
   "source": [
    "critical_pressure = pressure_relieving*critical_flow_coefficient\n",
    "print(\"Critical pressure: {} psi\".format(round(pascal_to_psi(critical_pressure), 3)))\n",
    "print('Relieving pressure: {} psi'.format(round(pascal_to_psi(pressure_relieving),3)))"
   ]
  },
  {
   "cell_type": "markdown",
   "metadata": {},
   "source": [
    " According to the critical flow condition, the flow is critical when $\\frac{P_{cf}}{P_{r}} = \\left(\\frac{2}{k+1}\\right)^{\\frac{k}{k-1}}$. This gives $P_{cf} = 0.75P_{r}$. Therefore, if the pressure downstream of the nozzle is $\\leq$ to the critical pressure($P_{cf}$), choked flow will occur. In our case, choked flow is apparent."
   ]
  },
  {
   "cell_type": "markdown",
   "metadata": {},
   "source": [
    "## Friction Factor"
   ]
  },
  {
   "cell_type": "code",
   "execution_count": null,
   "metadata": {},
   "outputs": [],
   "source": [
    "dynamic_viscosity = df_nitrogen[df_nitrogen['Temperature (K)'] > temperature_saturation_nitrogen]['Viscosity (Pa*s)'].iloc[0]\n",
    "\n",
    "Re = 4*mass_flow/(3600*math.pi*dynamic_viscosity*nitrogen_port_inner_diameter)\n",
    "print(\"Reynolds number: {Re}\".format(Re=round(Re, 3)))\n",
    "\n",
    "f = 0.25/math.pow(math.log10(((0.0015/2.78)/3.7) + (5.74/(math.pow(Re, 0.8)))), 2)\n",
    "print(\"Friction factor: {f}\".format(f=round(f, 3)))\n",
    "\n",
    "df_nitrogen[df_nitrogen['Temperature (K)'] > temperature_saturation_nitrogen]"
   ]
  },
  {
   "cell_type": "markdown",
   "metadata": {},
   "source": [
    "## Flow Capacity"
   ]
  },
  {
   "cell_type": "code",
   "execution_count": null,
   "metadata": {},
   "outputs": [],
   "source": [
    "Q_a = W/nitrogen_density   # gas density\n",
    "print('Flow capacity: {} m^3/hr'.format(round(Q_a, 3)))"
   ]
  },
  {
   "cell_type": "markdown",
   "metadata": {},
   "source": [
    "## K-Factor"
   ]
  },
  {
   "cell_type": "markdown",
   "metadata": {},
   "source": [
    "![title](labeled_piping.png)"
   ]
  },
  {
   "cell_type": "code",
   "execution_count": null,
   "metadata": {},
   "outputs": [],
   "source": [
    "## K-Factor Calculations\n",
    "\n",
    "def k_factor_circular_pipe(f, L, D):\n",
    "    return f*(L/D)\n",
    "\n",
    "def k_factor_90deg_bend(r, d, f):\n",
    "    ratio = int(r/d)\n",
    "    k_dict = {\"1\": 20,\n",
    "             \"2\": 12,\n",
    "             \"3\": 12,\n",
    "             \"4\": 14,\n",
    "             \"6\": 17,\n",
    "             \"8\": 24,\n",
    "             \"10\": 30}\n",
    "    k = k_dict[str(ratio)]\n",
    "    \n",
    "    return f*k\n",
    "\n",
    "def k_factor_manifold_main(Q_b, Q_c):\n",
    "    return (1.55*(Q_b/Q_c) - math.pow(Q_b/Q_c, 2))\n",
    "\n",
    "def k_factor_enlargement(D_i, D_o):\n",
    "    k = math.pow(1 - math.pow(D_i, 2)/math.pow(D_o, 2),2)\n",
    "    return k\n",
    "\n",
    "def k_factor_manifold_input(Q_b, Q_c, D_branch, D_comb):\n",
    "    C = 1.0\n",
    "    D = 1.0\n",
    "    E = 2.0\n",
    "    beta = D_branch/D_comb\n",
    "    \n",
    "    K = C*( 1 +  D*math.pow(Q_b/(Q_c*math.pow(beta, 2)), 2) - E*math.pow(1 - (Q_b/Q_c), 2))\n",
    "    return K\n",
    "\n",
    "def k_factor_mitre(f):\n",
    "    return 60*f\n",
    "\n",
    "#### Flow Path A-B-C\n",
    "\n",
    "long_diameter = 0.022    # long relief pipe ID, path A-B-C\n",
    "long_length = 0.933      # long relief pipe length, path A-B-C\n",
    "\n",
    "K_vessel_relief = k_factor_circular_pipe(f, \n",
    "                                         nitrogen_port_length, \n",
    "                                         nitrogen_port_inner_diameter)\n",
    "\n",
    "K_vessel_relief *= math.pow(long_diameter/nitrogen_port_inner_diameter, 4) # 0.375\" -> 0.870\" pipe\n",
    "\n",
    "K_relief_entrance = 0.5                                  # Crane's Flow of Fluids A-30, sharp edged pipe entrance   \n",
    "K_port_enlargement = k_factor_enlargement(nitrogen_port_inner_diameter, \n",
    "                                        long_diameter)   # Crane's Flow of Fluids A-30, inward projected pipe entrance\n",
    "\n",
    "K_right_bend = k_factor_90deg_bend(0.025, long_diameter, f)   \n",
    "K_long = k_factor_circular_pipe(f, long_length, long_diameter)\n",
    "\n",
    "K_path_a = K_vessel_relief\n",
    "K_path_a+= K_relief_entrance\n",
    "K_path_a+= K_port_enlargement\n",
    "K_path_a+= K_right_bend\n",
    "K_path_a+= K_long\n",
    "\n",
    "#### Flow Path: D-E\n",
    "\n",
    "short_diameter = 0.022   # short relief pipe ID, path D-E\n",
    "short_length = 0.548     # short relief pipe length, path D-E\n",
    "\n",
    "K_short = k_factor_circular_pipe(f, short_length, short_diameter)\n",
    "\n",
    "K_path_b = K_vessel_relief\n",
    "K_path_b+= K_short\n",
    "K_path_b+= K_relief_entrance\n",
    "K_path_b+= K_port_enlargement\n",
    "\n",
    "\n",
    "#### Manifold\n",
    "\n",
    "manifold_diameter = 0.034925                            # Manifold body diameter\n",
    "manifold_length_path_a_b = 0.076                        # Manifold path between A-B-C & D-E length\n",
    "manifold_length_path_b = 0.196                          # Manifold path B length\n",
    "\n",
    "K_manifold_mitre = k_factor_mitre(f)                    # Entrance from path A, modeled as a mitre bend\n",
    "\n",
    "length_right_bend = 0.085                               # Arc length of right angle bend on path A-B-C\n",
    "relief_inner_diameter = long_diameter\n",
    "relief_outer_diameter = 0.025\n",
    "\n",
    "length_vessel_to_prv = nitrogen_port_length \n",
    "+ length_right_bend \n",
    "+ long_length\n",
    "+ manifold_length_path_a_b \n",
    "+ manifold_length_path_b \n",
    "\n",
    "\n",
    "# ====================================================\n",
    "#\n",
    "# From the Darcy-Weisbach equation:\n",
    "#\n",
    "# Q = (Q_a) + (Q_b)\n",
    "#\n",
    "# (Q_a)^2/(Q_b)^2 = (L_b/L_a)\n",
    "#\n",
    "#  ==> Q_a = sqrt(L_b/L_a)(Q_b)\n",
    "#\n",
    "#  ==> Q_1 = Q/(1 + sqrt(L_a/L_b))\n",
    "#\n",
    "#  ==> Q_2 = Q/(1 + sqrt(L_b/L_a))\n",
    "#\n",
    "# =====================================================\n",
    "\n",
    "length_a = nitrogen_port_length + length_right_bend + long_length + manifold_length_path_a_b\n",
    "length_b = nitrogen_port_length + short_length\n",
    "\n",
    "\n",
    "\n",
    "Q_b = Q_a/( 1 + math.sqrt(length_b/length_a))          # Branch flow path b\n",
    "Q_c = Q_a/( 1 + math.sqrt(length_a/length_b))          # Branch flow path a  \n",
    "\n",
    "# This is a bit confusing due to the overlap in notations from different sources. On the digram the \n",
    "# combinational flow is denoted as Q_c but the notation from the calculation of the total flow makes \n",
    "# the notation Q_a. For that reason below is what each variable denotes.\n",
    "\n",
    "# Q_a = Combinational or total volumetric flow.\n",
    "# Q_b = Branch flow or the volumetric flow for path B\n",
    "# Q_c = The volumetric flow for path A up to the recombination point.\n",
    "#\n",
    "# I know this is confusing.\n",
    "\n",
    "K_manifold_flow = k_factor_manifold_main(Q_b, Q_a)\n",
    "\n",
    "\n",
    "K_manifold_input = k_factor_manifold_input(Q_b,        # Entrance from path B, modeled as a hydraulic tee\n",
    "                                           Q_a,\n",
    "                                           long_diameter,\n",
    "                                           manifold_diameter)     \n",
    "\n",
    "K_manifold_body_path_a = k_factor_circular_pipe(f,     # The circular pipe flow through the manifold to the PRV\n",
    "                                             manifold_length_path_a_b, \n",
    "                                             manifold_diameter) \n",
    "\n",
    "K_manifold_body_path_b = k_factor_circular_pipe(f,     # The circular pipe flow through the manifold to the PRV\n",
    "                                             manifold_length_path_b, \n",
    "                                             manifold_diameter) \n",
    "\n",
    "K_manifold_body_path_a *= math.pow(long_diameter/manifold_diameter, 4) # scaling conversion from small to large\n",
    "K_manifold_body_path_b *= math.pow(long_diameter/manifold_diameter, 4) # scaling conversion from small to large\n",
    "\n",
    "K_path_a = 4*K_path_a + K_manifold_mitre\n",
    "K_path_a+= K_manifold_body_path_a            # Path including bend up to the port for path B; recombination point\n",
    "\n",
    "K_total_parallel_lines = 1/((1/K_path_a) + 1/(K_path_b)) # K-factors add in parallel\n",
    "\n",
    "\n",
    "K_total_parallel_lines += K_manifold_flow    # Added resistance due to combination, K_run in Crane's Manual\n",
    "K_total_parallel_lines += K_manifold_input   # Factor due to branch impur flow, K_branch in Crane's Manual\n",
    "\n",
    "\n",
    "K_factor_total_path = K_total_parallel_lines + K_manifold_body_path_b\n",
    "\n",
    "print('Total K-factor: {}'.format(round(K_factor_total_path, 3)))\n",
    "\n",
    "equiv_length = (K_factor_total_path*long_diameter)/f\n",
    "\n",
    "print('Eq length: {}'.format(round(equiv_length, 3)))\n"
   ]
  },
  {
   "cell_type": "markdown",
   "metadata": {},
   "source": [
    "## Pressure Drop\n",
    "$\\Delta P = f \\frac{\\nu l W^{2}}{d^{5}}$"
   ]
  },
  {
   "cell_type": "code",
   "execution_count": null,
   "metadata": {},
   "outputs": [],
   "source": [
    "specific_volume = df_nitrogen[df_nitrogen['Temperature (K)'] > critical_temperature]['Volume (m3/kg)'].iloc[0]\n",
    "\n",
    "pressure_drop = (f*equiv_length*math.pow(W/3600, 2)*specific_volume)/math.pow(long_diameter, 5)\n",
    "print('Head loss due to relief line: {} psi'.format(round(pascal_to_psi(pressure_drop), 3)))\n",
    "\n",
    "precent_over_mawp = 100*(pressure_drop + pressure_saturation_abs)/(pressure_saturation_abs)\n",
    "print('Percent over pressure (must be < 110%): {}%'.format(round(precent_over_mawp), 3))"
   ]
  },
  {
   "cell_type": "markdown",
   "metadata": {},
   "source": [
    "## Condition for set pressure"
   ]
  },
  {
   "cell_type": "code",
   "execution_count": null,
   "metadata": {},
   "outputs": [],
   "source": [
    "minimum_pressure_drop = 0.03*pressure_set\n",
    "print('Minimum desired pressure drop: {}'.format(round(pascal_to_psi(minimum_pressure_drop), 3)))"
   ]
  }
 ],
 "metadata": {
  "kernelspec": {
   "display_name": "Python 3",
   "language": "python",
   "name": "python3"
  },
  "language_info": {
   "codemirror_mode": {
    "name": "ipython",
    "version": 3
   },
   "file_extension": ".py",
   "mimetype": "text/x-python",
   "name": "python",
   "nbconvert_exporter": "python",
   "pygments_lexer": "ipython3",
   "version": "3.7.6"
  }
 },
 "nbformat": 4,
 "nbformat_minor": 4
}
